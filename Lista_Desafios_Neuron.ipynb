{
  "nbformat": 4,
  "nbformat_minor": 0,
  "metadata": {
    "colab": {
      "name": "Lista_Desafios_Neuron.ipynb",
      "provenance": [],
      "collapsed_sections": [],
      "authorship_tag": "ABX9TyOGmKYnHwIwRu9LgRe59T01",
      "include_colab_link": true
    },
    "kernelspec": {
      "name": "python3",
      "display_name": "Python 3"
    },
    "language_info": {
      "name": "python"
    }
  },
  "cells": [
    {
      "cell_type": "markdown",
      "metadata": {
        "id": "view-in-github",
        "colab_type": "text"
      },
      "source": [
        "<a href=\"https://colab.research.google.com/github/Porinquanto/Python/blob/main/Lista_Desafios_Neuron.ipynb\" target=\"_parent\"><img src=\"https://colab.research.google.com/assets/colab-badge.svg\" alt=\"Open In Colab\"/></a>"
      ]
    },
    {
      "cell_type": "code",
      "metadata": {
        "id": "__qydx-W0mjx"
      },
      "source": [
        "# algoritmo que mostra valor anterior\n",
        "def showPrev(num):\n",
        "  print(num-1)\n",
        "\n",
        "\n",
        "a = 5\n",
        "showPrev(a)"
      ],
      "execution_count": null,
      "outputs": []
    },
    {
      "cell_type": "code",
      "metadata": {
        "id": "EKUJApZ_1ACu"
      },
      "source": [
        "# função que troca valor de duas variáveis\n",
        "A = 999\n",
        "B = 555\n",
        "\n",
        "def changeNum(first, second):\n",
        "  print(f\"The first element is {first} and the second is {second}\")\n",
        "  aux = first\n",
        "  first = second\n",
        "  second = aux\n",
        "  print(f\"Now... The first element is {first} and the second is {second}\")\n",
        "\n",
        "changeNum(A,B)"
      ],
      "execution_count": null,
      "outputs": []
    },
    {
      "cell_type": "code",
      "metadata": {
        "id": "CglYiDyj3nte"
      },
      "source": [
        "# função print baseado no 10\n",
        "value = int(input(\"Enter a value \"))\n",
        "if(value<10):\n",
        "  print(f\"{value} é menor que 10\")\n",
        "elif(value==10):\n",
        "  print(f\"{value} é igual a 10\")\n",
        "else:\n",
        "  print(f\"{value} é maior que 10\")"
      ],
      "execution_count": null,
      "outputs": []
    },
    {
      "cell_type": "code",
      "metadata": {
        "id": "TkzV4hUu6opj"
      },
      "source": [
        "# pede idade e fala se pode dirigir\n",
        "idade = int(input(\"Qual a sua idade? \"))\n",
        "if(idade>18):\n",
        "  print(\"Você já pode tirar sua licença de motorista\")\n",
        "else:\n",
        "  print(\"Você NÃO pode tirar a licença de motorista\")"
      ],
      "execution_count": null,
      "outputs": []
    },
    {
      "cell_type": "code",
      "metadata": {
        "id": "D9cWoGfd7HU5"
      },
      "source": [
        "lista = []\n",
        "for i in range(3):\n",
        "  number = int(input(\"digite um nro \"))\n",
        "  lista.append(number)\n",
        "\n",
        "print(sorted(lista))"
      ],
      "execution_count": null,
      "outputs": []
    },
    {
      "cell_type": "code",
      "metadata": {
        "id": "JwtAo2W0D3ld"
      },
      "source": [
        "# tabuada + funcao\n",
        "def tabuada():\n",
        "  num = int(input(\"Tabuada do [1,10] :\"))\n",
        "  if(num>=1 and num<=10):\n",
        "    for i in range(0,11,1):\n",
        "      print(num*i)\n",
        "  else:\n",
        "    print(\"Número inválido\")\n",
        "\n",
        "tabuada()"
      ],
      "execution_count": null,
      "outputs": []
    },
    {
      "cell_type": "code",
      "metadata": {
        "id": "-ZJZQa2JEYuV"
      },
      "source": [
        "lista = []\n",
        "for i in range(10):\n",
        "  number = int(input(\"digite um nro \"))\n",
        "  lista.append(number)\n",
        "\n",
        "print(sorted(lista, reverse=True))"
      ],
      "execution_count": null,
      "outputs": []
    },
    {
      "cell_type": "code",
      "metadata": {
        "id": "sI3tcoty6l2y"
      },
      "source": [
        "# soma valores positivos de uma lista\n",
        "# coloque os valores desejados dentro da lista\n",
        "\n",
        "import time\n",
        "start=time.time()\n",
        "\n",
        "lista = [1, -1, 2, -2, 3, -3, 4, -4, 5, -5]\n",
        "# print(np.sum(lista, where=np.array(lista)>0))\n",
        "soma = [ num for num in lista if num>0]\n",
        "print(sum(soma))\n",
        "\n",
        "print(\"demorou :\", time.time()-start)"
      ],
      "execution_count": null,
      "outputs": []
    },
    {
      "cell_type": "code",
      "metadata": {
        "id": "JWEN6Y5ycgeM"
      },
      "source": [
        "# par ou impar?\n",
        "num = int(input(\"Digite um nro :\"))\n",
        "if(num%2==0):\n",
        "  print(\"Nro par\")\n",
        "else:\n",
        "  print(\"Nro impar\")"
      ],
      "execution_count": null,
      "outputs": []
    },
    {
      "cell_type": "code",
      "metadata": {
        "id": "kY54_RTIc8JG"
      },
      "source": [
        "# raiz, sem negativo\n",
        "import math\n",
        "num = int(input(\"Digite um nro :\"))\n",
        "try:\n",
        "  print(math.sqrt(num))\n",
        "except:\n",
        "  print(\"Não existe raiz real de nro negativo\")"
      ],
      "execution_count": null,
      "outputs": []
    },
    {
      "cell_type": "code",
      "metadata": {
        "id": "sf1ts4XAeJfh"
      },
      "source": [
        "A = int(input(\"Dividendo :\"))\n",
        "B = int(input(\"Divisor :\"))\n",
        "try:\n",
        "  print(A/B)\n",
        "except:\n",
        "  print(\"O divisor não pode ser igual zero\")"
      ],
      "execution_count": null,
      "outputs": []
    },
    {
      "cell_type": "code",
      "metadata": {
        "id": "DQ-BKCUB_zJU"
      },
      "source": [
        "# classe\n",
        "class Bola:\n",
        "  # construtor\n",
        "  def __init__ (self, cor, circunferencia, material):\n",
        "    # atributos\n",
        "    self.cor = cor\n",
        "    self.circunferencia = circunferencia\n",
        "    self.material = material\n",
        "  \n",
        "  # metodo mudar cor\n",
        "  def mudaCor(self,cor):\n",
        "    self.cor = cor\n",
        "\n",
        "  #metodo mostrar cor\n",
        "  def mostraCor(self):\n",
        "    return self.cor\n",
        "\n",
        "\n",
        "b = Bola(\"branca\", 60, \"borracha\")\n",
        "print(b.mostraCor())\n",
        "b.mudaCor(\"preto\")\n",
        "print(b.mostraCor())"
      ],
      "execution_count": null,
      "outputs": []
    },
    {
      "cell_type": "code",
      "metadata": {
        "id": "xWYdwuSBjg9g"
      },
      "source": [
        "class Pessoa:\n",
        "  def __init__ (self, idade, nome, peso, altura):\n",
        "    self.idade = idade\n",
        "    self.nome = nome\n",
        "    self.peso = peso\n",
        "    self.altura = altura\n",
        "\n",
        "  def envelhercer(self, anos):\n",
        "    self.idade += anos\n",
        "\n",
        "  def engordar(self, kg):\n",
        "    self.peso += kg\n",
        "\n",
        "  def emagrecer(self, kg):\n",
        "    self.peso -= kg\n",
        "\n",
        "  def crescer(self):\n",
        "    self.altura += 0.05\n",
        "  \n",
        "\n",
        "eu = Pessoa(24, \"Gui\", 85, 1.77)\n",
        "print(vars(eu))\n",
        "eu.engordar(1.2)\n",
        "print(vars(eu))\n",
        "eu.engordar(5)\n",
        "print(vars(eu))\n",
        "eu.crescer()\n",
        "print(vars(eu))\n",
        "eu.envelhercer(1)\n",
        "print(vars(eu))\n",
        "eu.emagrecer(3)\n",
        "print(vars(eu))"
      ],
      "execution_count": null,
      "outputs": []
    }
  ]
}