{
  "nbformat": 4,
  "nbformat_minor": 0,
  "metadata": {
    "colab": {
      "name": "Lista_Desafios_Neuron.ipynb",
      "provenance": [],
      "collapsed_sections": [],
      "authorship_tag": "ABX9TyOGmKYnHwIwRu9LgRe59T01",
      "include_colab_link": true
    },
    "kernelspec": {
      "name": "python3",
      "display_name": "Python 3"
    },
    "language_info": {
      "name": "python"
    }
  },
  "cells": [
    {
      "cell_type": "markdown",
      "metadata": {
        "id": "view-in-github",
        "colab_type": "text"
      },
      "source": [
        "<a href=\"https://colab.research.google.com/github/Porinquanto/Python/blob/main/Lista_Desafios_Neuron.ipynb\" target=\"_parent\"><img src=\"https://colab.research.google.com/assets/colab-badge.svg\" alt=\"Open In Colab\"/></a>"
      ]
    },
    {
      "cell_type": "code",
      "metadata": {
        "colab": {
          "base_uri": "https://localhost:8080/"
        },
        "id": "__qydx-W0mjx",
        "outputId": "23da908d-77d7-4cdd-f34b-a28eaf19f009"
      },
      "source": [
        "# algoritmo que mostra valor anterior\n",
        "def showPrev(num):\n",
        "  print(num-1)\n",
        "\n",
        "\n",
        "a = 5\n",
        "showPrev(a)"
      ],
      "execution_count": null,
      "outputs": [
        {
          "output_type": "stream",
          "text": [
            "4\n"
          ],
          "name": "stdout"
        }
      ]
    },
    {
      "cell_type": "code",
      "metadata": {
        "colab": {
          "base_uri": "https://localhost:8080/"
        },
        "id": "EKUJApZ_1ACu",
        "outputId": "b27b3394-63f8-4496-fd17-65cce3845ea1"
      },
      "source": [
        "# função que troca valor de duas variáveis\n",
        "A = 999\n",
        "B = 555\n",
        "\n",
        "def changeNum(first, second):\n",
        "  print(f\"The first element is {first} and the second is {second}\")\n",
        "  aux = first\n",
        "  first = second\n",
        "  second = aux\n",
        "  print(f\"Now... The first element is {first} and the second is {second}\")\n",
        "\n",
        "changeNum(A,B)"
      ],
      "execution_count": null,
      "outputs": [
        {
          "output_type": "stream",
          "text": [
            "The first element is 999 and the second is 555\n",
            "Now... The first element is 555 and the second is 999\n"
          ],
          "name": "stdout"
        }
      ]
    },
    {
      "cell_type": "code",
      "metadata": {
        "colab": {
          "base_uri": "https://localhost:8080/"
        },
        "id": "CglYiDyj3nte",
        "outputId": "b3f4f338-8224-4d26-b481-f2d14ea0cc88"
      },
      "source": [
        "# função print baseado no 10\n",
        "value = int(input(\"Enter a value \"))\n",
        "if(value<10):\n",
        "  print(f\"{value} é menor que 10\")\n",
        "elif(value==10):\n",
        "  print(f\"{value} é igual a 10\")\n",
        "else:\n",
        "  print(f\"{value} é maior que 10\")"
      ],
      "execution_count": null,
      "outputs": [
        {
          "output_type": "stream",
          "text": [
            "Enter a value 10\n",
            "10 é igual a 10\n"
          ],
          "name": "stdout"
        }
      ]
    },
    {
      "cell_type": "code",
      "metadata": {
        "colab": {
          "base_uri": "https://localhost:8080/"
        },
        "id": "TkzV4hUu6opj",
        "outputId": "424f4bc3-1265-4b40-def1-10fb5348dc98"
      },
      "source": [
        "# pede idade e fala se pode dirigir\n",
        "idade = int(input(\"Qual a sua idade? \"))\n",
        "if(idade>18):\n",
        "  print(\"Você já pode tirar sua licença de motorista\")\n",
        "else:\n",
        "  print(\"Você NÃO pode tirar a licença de motorista\")"
      ],
      "execution_count": null,
      "outputs": [
        {
          "output_type": "stream",
          "text": [
            "Qual a sua idade? 12\n",
            "Você NÃO pode tirar sua licença de motorista\n"
          ],
          "name": "stdout"
        }
      ]
    },
    {
      "cell_type": "code",
      "metadata": {
        "colab": {
          "base_uri": "https://localhost:8080/"
        },
        "id": "D9cWoGfd7HU5",
        "outputId": "e83bf7fc-39b1-437f-d25c-a308fbd1b6c3"
      },
      "source": [
        "lista = []\n",
        "for i in range(3):\n",
        "  number = int(input(\"digite um nro \"))\n",
        "  lista.append(number)\n",
        "\n",
        "print(sorted(lista))"
      ],
      "execution_count": null,
      "outputs": [
        {
          "output_type": "stream",
          "text": [
            "digite um nro 3\n",
            "digite um nro 9\n",
            "digite um nro 2\n",
            "[2, 3, 9]\n"
          ],
          "name": "stdout"
        }
      ]
    },
    {
      "cell_type": "code",
      "metadata": {
        "colab": {
          "base_uri": "https://localhost:8080/"
        },
        "id": "JwtAo2W0D3ld",
        "outputId": "67419e75-3bad-4813-f41b-dfdeb43c4416"
      },
      "source": [
        "# tabuada + funcao\n",
        "def tabuada():\n",
        "  num = int(input(\"Tabuada do [1,10] :\"))\n",
        "  if(num>=1 and num<=10):\n",
        "    for i in range(0,11,1):\n",
        "      print(num*i)\n",
        "  else:\n",
        "    print(\"Número inválido\")\n",
        "\n",
        "tabuada()"
      ],
      "execution_count": null,
      "outputs": [
        {
          "output_type": "stream",
          "text": [
            "Tabuada do [1,10] :10\n",
            "0\n",
            "10\n",
            "20\n",
            "30\n",
            "40\n",
            "50\n",
            "60\n",
            "70\n",
            "80\n",
            "90\n",
            "100\n"
          ],
          "name": "stdout"
        }
      ]
    },
    {
      "cell_type": "code",
      "metadata": {
        "id": "-ZJZQa2JEYuV",
        "colab": {
          "base_uri": "https://localhost:8080/",
          "height": 248
        },
        "outputId": "ecc6202e-d992-4e0c-ef51-e02dc9b632df"
      },
      "source": [
        "lista = []\n",
        "for i in range(10):\n",
        "  number = int(input(\"digite um nro \"))\n",
        "  lista.append(number)\n",
        "\n",
        "print(sorted(lista, reverse=True))"
      ],
      "execution_count": null,
      "outputs": [
        {
          "output_type": "stream",
          "text": [
            "digite um nro \n"
          ],
          "name": "stdout"
        },
        {
          "output_type": "error",
          "ename": "ValueError",
          "evalue": "ignored",
          "traceback": [
            "\u001b[0;31m---------------------------------------------------------------------------\u001b[0m",
            "\u001b[0;31mValueError\u001b[0m                                Traceback (most recent call last)",
            "\u001b[0;32m<ipython-input-9-77d5c8858893>\u001b[0m in \u001b[0;36m<module>\u001b[0;34m()\u001b[0m\n\u001b[1;32m      1\u001b[0m \u001b[0mlista\u001b[0m \u001b[0;34m=\u001b[0m \u001b[0;34m[\u001b[0m\u001b[0;34m]\u001b[0m\u001b[0;34m\u001b[0m\u001b[0;34m\u001b[0m\u001b[0m\n\u001b[1;32m      2\u001b[0m \u001b[0;32mfor\u001b[0m \u001b[0mi\u001b[0m \u001b[0;32min\u001b[0m \u001b[0mrange\u001b[0m\u001b[0;34m(\u001b[0m\u001b[0;36m10\u001b[0m\u001b[0;34m)\u001b[0m\u001b[0;34m:\u001b[0m\u001b[0;34m\u001b[0m\u001b[0;34m\u001b[0m\u001b[0m\n\u001b[0;32m----> 3\u001b[0;31m   \u001b[0mnumber\u001b[0m \u001b[0;34m=\u001b[0m \u001b[0mint\u001b[0m\u001b[0;34m(\u001b[0m\u001b[0minput\u001b[0m\u001b[0;34m(\u001b[0m\u001b[0;34m\"digite um nro \"\u001b[0m\u001b[0;34m)\u001b[0m\u001b[0;34m)\u001b[0m\u001b[0;34m\u001b[0m\u001b[0;34m\u001b[0m\u001b[0m\n\u001b[0m\u001b[1;32m      4\u001b[0m   \u001b[0mlista\u001b[0m\u001b[0;34m.\u001b[0m\u001b[0mappend\u001b[0m\u001b[0;34m(\u001b[0m\u001b[0mnumber\u001b[0m\u001b[0;34m)\u001b[0m\u001b[0;34m\u001b[0m\u001b[0;34m\u001b[0m\u001b[0m\n\u001b[1;32m      5\u001b[0m \u001b[0;34m\u001b[0m\u001b[0m\n",
            "\u001b[0;31mValueError\u001b[0m: invalid literal for int() with base 10: ''"
          ]
        }
      ]
    },
    {
      "cell_type": "code",
      "metadata": {
        "colab": {
          "base_uri": "https://localhost:8080/"
        },
        "id": "sI3tcoty6l2y",
        "outputId": "e361d2c6-bdb6-4c38-8d9c-f1cee812625e"
      },
      "source": [
        "# soma valores positivos de uma lista\n",
        "# coloque os valores desejados dentro da lista\n",
        "\n",
        "import time\n",
        "start=time.time()\n",
        "\n",
        "lista = [1, -1, 2, -2, 3, -3, 4, -4, 5, -5]\n",
        "# print(np.sum(lista, where=np.array(lista)>0))\n",
        "soma = [ num for num in lista if num>0]\n",
        "print(sum(soma))\n",
        "\n",
        "print(\"demorou :\", time.time()-start)"
      ],
      "execution_count": null,
      "outputs": [
        {
          "output_type": "stream",
          "text": [
            "15\n",
            "demorou : 0.0008742809295654297\n"
          ],
          "name": "stdout"
        }
      ]
    },
    {
      "cell_type": "code",
      "metadata": {
        "colab": {
          "base_uri": "https://localhost:8080/"
        },
        "id": "JWEN6Y5ycgeM",
        "outputId": "8e3cfcb1-bba6-4c34-ad6a-5059d9978994"
      },
      "source": [
        "# par ou impar?\n",
        "num = int(input(\"Digite um nro :\"))\n",
        "if(num%2==0):\n",
        "  print(\"Nro par\")\n",
        "else:\n",
        "  print(\"Nro impar\")"
      ],
      "execution_count": null,
      "outputs": [
        {
          "output_type": "stream",
          "text": [
            "Digite um nro :12\n",
            "Nro par\n"
          ],
          "name": "stdout"
        }
      ]
    },
    {
      "cell_type": "code",
      "metadata": {
        "colab": {
          "base_uri": "https://localhost:8080/"
        },
        "id": "kY54_RTIc8JG",
        "outputId": "34b95934-4e8d-44e8-97ed-8e2757231af8"
      },
      "source": [
        "# raiz, sem negativo\n",
        "import math\n",
        "num = int(input(\"Digite um nro :\"))\n",
        "try:\n",
        "  print(math.sqrt(num))\n",
        "except:\n",
        "  print(\"Não existe raiz real de nro negativo\")"
      ],
      "execution_count": null,
      "outputs": [
        {
          "output_type": "stream",
          "text": [
            "Digite um nro :-2\n",
            "Não existe raiz real de nro negativo\n"
          ],
          "name": "stdout"
        }
      ]
    },
    {
      "cell_type": "code",
      "metadata": {
        "colab": {
          "base_uri": "https://localhost:8080/"
        },
        "id": "sf1ts4XAeJfh",
        "outputId": "0872cf37-e2b0-4d28-c365-12d12b49ac4a"
      },
      "source": [
        "A = int(input(\"Dividendo :\"))\n",
        "B = int(input(\"Divisor :\"))\n",
        "try:\n",
        "  print(A/B)\n",
        "except:\n",
        "  print(\"O divisor não pode ser igual zero\")"
      ],
      "execution_count": null,
      "outputs": [
        {
          "output_type": "stream",
          "text": [
            "Dividendo :2\n",
            "Divisor :0\n",
            "O divisor não pode ser igual zero\n"
          ],
          "name": "stdout"
        }
      ]
    },
    {
      "cell_type": "code",
      "metadata": {
        "id": "DQ-BKCUB_zJU"
      },
      "source": [
        "# classe\n",
        "class Bola:\n",
        "  # construtor\n",
        "  def __init__ (self, cor, circunferencia, material):\n",
        "    # atributos\n",
        "    self.cor = cor\n",
        "    self.circunferencia = circunferencia\n",
        "    self.material = material\n",
        "  \n",
        "  # metodo mudar cor\n",
        "  def mudaCor(self,cor):\n",
        "    self.cor = cor\n",
        "\n",
        "  #metodo mostrar cor\n",
        "  def mostraCor(self):\n",
        "    return self.cor\n",
        "\n",
        "\n",
        "b = Bola(\"branca\", 60, \"borracha\")\n",
        "print(b.mostraCor())\n",
        "b.mudaCor(\"preto\")\n",
        "print(b.mostraCor())"
      ],
      "execution_count": null,
      "outputs": []
    },
    {
      "cell_type": "code",
      "metadata": {
        "colab": {
          "base_uri": "https://localhost:8080/"
        },
        "id": "xWYdwuSBjg9g",
        "outputId": "68827616-ad57-4136-e4fa-3e0beef2f98e"
      },
      "source": [
        "class Pessoa:\n",
        "  def __init__ (self, idade, nome, peso, altura):\n",
        "    self.idade = idade\n",
        "    self.nome = nome\n",
        "    self.peso = peso\n",
        "    self.altura = altura\n",
        "\n",
        "  def envelhercer(self, anos):\n",
        "    self.idade += anos\n",
        "\n",
        "  def engordar(self, kg):\n",
        "    self.peso += kg\n",
        "\n",
        "  def emagrecer(self, kg):\n",
        "    self.peso -= kg\n",
        "\n",
        "  def crescer(self):\n",
        "    self.altura += 0.05\n",
        "  \n",
        "\n",
        "eu = Pessoa(24, \"Gui\", 85, 1.77)\n",
        "print(vars(eu))\n",
        "eu.engordar(1.2)\n",
        "print(vars(eu))\n",
        "eu.engordar(5)\n",
        "print(vars(eu))\n",
        "eu.crescer()\n",
        "print(vars(eu))\n",
        "eu.envelhercer(1)\n",
        "print(vars(eu))\n",
        "eu.emagrecer(3)\n",
        "print(vars(eu))"
      ],
      "execution_count": null,
      "outputs": [
        {
          "output_type": "stream",
          "text": [
            "{'idade': 24, 'nome': 'Gui', 'peso': 85, 'altura': 1.77}\n",
            "{'idade': 24, 'nome': 'Gui', 'peso': 86.2, 'altura': 1.77}\n",
            "{'idade': 24, 'nome': 'Gui', 'peso': 91.2, 'altura': 1.77}\n",
            "{'idade': 24, 'nome': 'Gui', 'peso': 91.2, 'altura': 1.82}\n",
            "{'idade': 25, 'nome': 'Gui', 'peso': 91.2, 'altura': 1.82}\n",
            "{'idade': 25, 'nome': 'Gui', 'peso': 88.2, 'altura': 1.82}\n"
          ],
          "name": "stdout"
        }
      ]
    }
  ]
}